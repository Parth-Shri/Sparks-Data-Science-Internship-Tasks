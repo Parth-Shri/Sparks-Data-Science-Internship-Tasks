{
 "cells": [
  {
   "cell_type": "markdown",
   "id": "168d1980",
   "metadata": {},
   "source": [
    "# The Sparks Foundation - Data Science & Business Analytics Internship\n",
    " "
   ]
  },
  {
   "cell_type": "markdown",
   "id": "8809152e",
   "metadata": {},
   "source": [
    "## TASK 1 - Prediction using Supervised Machine Learning\n"
   ]
  },
  {
   "cell_type": "markdown",
   "id": "3144b39d",
   "metadata": {},
   "source": [
    "### Author :- Parth Shrivastava "
   ]
  },
  {
   "cell_type": "markdown",
   "id": "6c716df8",
   "metadata": {},
   "source": [
    "=> In this task it is required to predict the percentage of a student on the basis of number of hours studied using the Linear Regression supervised machine learning algorithm.\n",
    "\n"
   ]
  },
  {
   "cell_type": "markdown",
   "id": "63dde08d",
   "metadata": {},
   "source": [
    "### Problem Distribution - \n"
   ]
  },
  {
   "cell_type": "markdown",
   "id": "bb226f0c",
   "metadata": {},
   "source": [
    "Step 1 - Importing the necessary libraries\n",
    "Step 2 - Read the dataset\n",
    "Step 3 - Data analysis\n",
    "Step 4 - Data visualization\n",
    "Step 5 - Data preprocessing\n",
    "Step 6 - Splitting the dataset\n",
    "Step 7 - Import the model\n",
    "Step 8 - Training\n",
    "Step 9 - Prediction\n",
    "Step 10 - Evaluation"
   ]
  },
  {
   "cell_type": "code",
   "execution_count": null,
   "id": "fe6a1cd5",
   "metadata": {},
   "outputs": [],
   "source": []
  }
 ],
 "metadata": {
  "kernelspec": {
   "display_name": "Python 3 (ipykernel)",
   "language": "python",
   "name": "python3"
  },
  "language_info": {
   "codemirror_mode": {
    "name": "ipython",
    "version": 3
   },
   "file_extension": ".py",
   "mimetype": "text/x-python",
   "name": "python",
   "nbconvert_exporter": "python",
   "pygments_lexer": "ipython3",
   "version": "3.10.7"
  }
 },
 "nbformat": 4,
 "nbformat_minor": 5
}
